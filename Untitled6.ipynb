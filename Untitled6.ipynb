{
 "cells": [
  {
   "cell_type": "markdown",
   "id": "a806c12e",
   "metadata": {},
   "source": [
    "# PROJECT 1"
   ]
  },
  {
   "cell_type": "markdown",
   "id": "3da9d62b",
   "metadata": {},
   "source": [
    "    1. Öncelikle gerekli kütüphanelerimizi import ediyoruz."
   ]
  },
  {
   "cell_type": "code",
   "execution_count": 7,
   "id": "484c5a80",
   "metadata": {},
   "outputs": [],
   "source": [
    "import pandas as pd\n",
    "import numpy as np"
   ]
  },
  {
   "cell_type": "markdown",
   "id": "29dbce18",
   "metadata": {},
   "source": [
    "    2. Daha sonra adların,soyadların, okul numaralarının, sınav puanlarının; sınav puanı bilgilerine bağlı olarak da elde edilen geçme kalma durumu ve harf notlarının toplanacağı listelerimizi oluşturduk."
   ]
  },
  {
   "cell_type": "code",
   "execution_count": 8,
   "id": "d2786d19",
   "metadata": {},
   "outputs": [],
   "source": [
    "ad_listesi = []\n",
    "soyad_listesi = []\n",
    "okul_no_listesi = []\n",
    "sinav_puani_listesi = []\n",
    "gecme_kalma_durumu = []\n",
    "harf_notu = []"
   ]
  },
  {
   "cell_type": "markdown",
   "id": "d11b0760",
   "metadata": {},
   "source": [
    "    3. \"girdiler\" isimli bir fonksiyon oluşturduk. Bu fonksiyon içerisine ad,soyad, okul numarası ve sınav puanının yazılacağı bir fonksiyon oldu. Fonksiyonun içerisinde de sınav puanına göre if döngüsü ile geçme kalma durumunun ve tekrardan bir if döngüsü ile harf notunun belirleneceği bir döngü oluşturduk. Bu döngülerin içerisine append metodunu da yerleştirerek not bilgisinden yola çıkarak geçme kalma durumunu gecme_kalma_durumu adlı listeye \"Geçti\" veya \"Kaldı\" olarak ekledik ve harf notunu da ilgili puan aralıklarına göre harf_notu listesine append metodu ile ekledik.\n",
    "    En son kısımda ise fonksiyonumuzun içine yazmış olduğumuz ad, soyas, okul_no ve sinav_puani bilgilerimizi append metodu yardımıyla ad_listesi,soyad_listesi,okul_no_listesi,sinav_puani_listesi listelerine ekledik."
   ]
  },
  {
   "cell_type": "code",
   "execution_count": 9,
   "id": "cd5d88a1",
   "metadata": {},
   "outputs": [],
   "source": [
    "def girdiler(ad, soyad, okul_no, sinav_puani):\n",
    "    if sinav_puani >= 60:\n",
    "        gecme_kalma_durumu.append(\"Geçti\")\n",
    "        if (sinav_puani >= 90) & (sinav_puani <= 100):\n",
    "            harf_notu.append(\"AA\")\n",
    "        elif (sinav_puani >= 82) & (sinav_puani <= 89):\n",
    "            harf_notu.append(\"BA\")\n",
    "        elif (sinav_puani >= 73) & (sinav_puani <= 81):\n",
    "            harf_notu.append(\"BB\")\n",
    "        elif (sinav_puani >= 65) & (sinav_puani <= 72):\n",
    "            harf_notu.append(\"CB\")\n",
    "        elif (sinav_puani >= 57) & (sinav_puani <= 64):\n",
    "            harf_notu.append(\"CC\")\n",
    "        elif (sinav_puani >= 48) & (sinav_puani <= 56):\n",
    "            harf_notu.append(\"DC\")\n",
    "        elif (sinav_puani >= 40) & (sinav_puani <= 47):\n",
    "            harf_notu.append(\"DD\")\n",
    "    else:\n",
    "        gecme_kalma_durumu.append(\"Kaldı\")\n",
    "        harf_notu.append(\"FF\")\n",
    "\n",
    "    ad_listesi.append(ad)\n",
    "    soyad_listesi.append(soyad)\n",
    "    okul_no_listesi.append(okul_no)\n",
    "    sinav_puani_listesi.append(sinav_puani)"
   ]
  },
  {
   "cell_type": "markdown",
   "id": "0bdc1eae",
   "metadata": {},
   "source": [
    "    4.\"girdiler\" fonksiyonumuzun içerisine gerekli bilgilerimizi girdik ve fonksiyonumuzu çalıştırdık."
   ]
  },
  {
   "cell_type": "code",
   "execution_count": 10,
   "id": "f4e9b69e",
   "metadata": {},
   "outputs": [],
   "source": [
    "girdiler(\"ayşe\", \"asasd\", 4527, 61)\n",
    "girdiler(\"ali\", \"asasd\", 4527, 40)\n",
    "girdiler(\"yasin\", \"asasd\", 4527, 90)\n",
    "girdiler(\"bahar\", \"adsasd\", 483, 70)"
   ]
  },
  {
   "cell_type": "markdown",
   "id": "2e0b6484",
   "metadata": {},
   "source": [
    "    5. Fonksiyonumuzu çağırdıktan sonra ad listesine şöyle bir bakalım dedik. 1 sütun ve girdiler fonksiyonunun sayısı kadar satırı olan bir liste karşımıza çıktı."
   ]
  },
  {
   "cell_type": "code",
   "execution_count": 16,
   "id": "0c3f9339",
   "metadata": {
    "scrolled": true
   },
   "outputs": [
    {
     "data": {
      "text/plain": [
       "0     ayşe\n",
       "1      ali\n",
       "2    yasin\n",
       "3    bahar\n",
       "dtype: object"
      ]
     },
     "execution_count": 16,
     "metadata": {},
     "output_type": "execute_result"
    }
   ],
   "source": [
    "ad_listesi"
   ]
  },
  {
   "cell_type": "markdown",
   "id": "0c05b46c",
   "metadata": {},
   "source": [
    "    6. Örnek olsun diye bir de soyad listemizi de çağıralım dedik. Burdan anlayacağımız üzere bu listeler bize 1 sütun ve girdiler satırlık birer liste olarak geliyor."
   ]
  },
  {
   "cell_type": "code",
   "execution_count": 17,
   "id": "1fadf5f2",
   "metadata": {},
   "outputs": [
    {
     "data": {
      "text/plain": [
       "0     asasd\n",
       "1     asasd\n",
       "2     asasd\n",
       "3    adsasd\n",
       "dtype: object"
      ]
     },
     "execution_count": 17,
     "metadata": {},
     "output_type": "execute_result"
    }
   ],
   "source": [
    "soyad_listesi"
   ]
  },
  {
   "cell_type": "markdown",
   "id": "4a2e0c5e",
   "metadata": {},
   "source": [
    "    7. Bizlerden dataframe oluşturmamız istendi. Dataframe oluşturabilmek için listelerimizi pandas serilerine çeviriyoruz."
   ]
  },
  {
   "cell_type": "code",
   "execution_count": 19,
   "id": "95e0405a",
   "metadata": {},
   "outputs": [],
   "source": [
    "ad_listesi = pd.Series(ad_listesi)\n",
    "soyad_listesi = pd.Series(soyad_listesi)\n",
    "okul_no_listesi = pd.Series(okul_no_listesi)\n",
    "sinav_puani_listesi = pd.Series(sinav_puani_listesi)\n",
    "gecme_kalma_durumu = pd.Series(gecme_kalma_durumu)\n",
    "harf_notu = pd.Series(harf_notu)"
   ]
  },
  {
   "cell_type": "markdown",
   "id": "ee98f509",
   "metadata": {},
   "source": [
    "    8. Pandas serilerimiz de aynı listeler gibi 1 sütunlu girdiler satırlı bir yapıda."
   ]
  },
  {
   "cell_type": "code",
   "execution_count": 26,
   "id": "16b84daf",
   "metadata": {},
   "outputs": [
    {
     "data": {
      "text/plain": [
       "0     ayşe\n",
       "1      ali\n",
       "2    yasin\n",
       "3    bahar\n",
       "dtype: object"
      ]
     },
     "execution_count": 26,
     "metadata": {},
     "output_type": "execute_result"
    }
   ],
   "source": [
    "ad_listesi"
   ]
  },
  {
   "cell_type": "code",
   "execution_count": 25,
   "id": "f3190995",
   "metadata": {},
   "outputs": [
    {
     "data": {
      "text/plain": [
       "pandas.core.series.Series"
      ]
     },
     "execution_count": 25,
     "metadata": {},
     "output_type": "execute_result"
    }
   ],
   "source": [
    "type(ad_listesi)"
   ]
  },
  {
   "cell_type": "markdown",
   "id": "3a6387a4",
   "metadata": {},
   "source": [
    "    9.Oluşturduğumuz Pandas serileri 1 sütunlu girdiler satırlı bir yapıdan oluşmakta. Biz bu yapıları yan yana birleştirdiğimizde bir tablo haline gelmiş oluyorlar.Pandas serilerimizi concat metodu yardımı ile birleştirip bir tablo haline getiriyoruz."
   ]
  },
  {
   "cell_type": "code",
   "execution_count": 12,
   "id": "c173efe5",
   "metadata": {},
   "outputs": [],
   "source": [
    "puan_tablosu = pd.concat([ad_listesi, soyad_listesi, okul_no_listesi, sinav_puani_listesi, gecme_kalma_durumu, harf_notu], axis=1)\n"
   ]
  },
  {
   "cell_type": "code",
   "execution_count": 21,
   "id": "56d10964",
   "metadata": {},
   "outputs": [
    {
     "data": {
      "text/html": [
       "<div>\n",
       "<style scoped>\n",
       "    .dataframe tbody tr th:only-of-type {\n",
       "        vertical-align: middle;\n",
       "    }\n",
       "\n",
       "    .dataframe tbody tr th {\n",
       "        vertical-align: top;\n",
       "    }\n",
       "\n",
       "    .dataframe thead th {\n",
       "        text-align: right;\n",
       "    }\n",
       "</style>\n",
       "<table border=\"1\" class=\"dataframe\">\n",
       "  <thead>\n",
       "    <tr style=\"text-align: right;\">\n",
       "      <th></th>\n",
       "      <th>Ad</th>\n",
       "      <th>Soyad</th>\n",
       "      <th>Okul No</th>\n",
       "      <th>Sınav puanı</th>\n",
       "      <th>geçme-kalma durumu</th>\n",
       "      <th>harf notu</th>\n",
       "    </tr>\n",
       "  </thead>\n",
       "  <tbody>\n",
       "    <tr>\n",
       "      <th>0</th>\n",
       "      <td>ayşe</td>\n",
       "      <td>asasd</td>\n",
       "      <td>4527</td>\n",
       "      <td>61</td>\n",
       "      <td>Geçti</td>\n",
       "      <td>CC</td>\n",
       "    </tr>\n",
       "    <tr>\n",
       "      <th>1</th>\n",
       "      <td>ali</td>\n",
       "      <td>asasd</td>\n",
       "      <td>4527</td>\n",
       "      <td>40</td>\n",
       "      <td>Kaldı</td>\n",
       "      <td>FF</td>\n",
       "    </tr>\n",
       "    <tr>\n",
       "      <th>2</th>\n",
       "      <td>yasin</td>\n",
       "      <td>asasd</td>\n",
       "      <td>4527</td>\n",
       "      <td>90</td>\n",
       "      <td>Geçti</td>\n",
       "      <td>AA</td>\n",
       "    </tr>\n",
       "    <tr>\n",
       "      <th>3</th>\n",
       "      <td>bahar</td>\n",
       "      <td>adsasd</td>\n",
       "      <td>483</td>\n",
       "      <td>70</td>\n",
       "      <td>Geçti</td>\n",
       "      <td>CB</td>\n",
       "    </tr>\n",
       "  </tbody>\n",
       "</table>\n",
       "</div>"
      ],
      "text/plain": [
       "      Ad   Soyad  Okul No  Sınav puanı geçme-kalma durumu harf notu\n",
       "0   ayşe   asasd     4527           61              Geçti        CC\n",
       "1    ali   asasd     4527           40              Kaldı        FF\n",
       "2  yasin   asasd     4527           90              Geçti        AA\n",
       "3  bahar  adsasd      483           70              Geçti        CB"
      ]
     },
     "execution_count": 21,
     "metadata": {},
     "output_type": "execute_result"
    }
   ],
   "source": [
    "puan_tablosu"
   ]
  },
  {
   "cell_type": "markdown",
   "id": "c11d35c6",
   "metadata": {},
   "source": [
    "    10. Tablomuzu elde ettiğimize göre bu tabloyu DataFrame yapısı ile bir DataFrame'e çeviriyoruz."
   ]
  },
  {
   "cell_type": "code",
   "execution_count": 13,
   "id": "97b65ce4",
   "metadata": {},
   "outputs": [],
   "source": [
    "df = pd.DataFrame(puan_tablosu)"
   ]
  },
  {
   "cell_type": "markdown",
   "id": "9df59ce6",
   "metadata": {},
   "source": [
    "    11. Tablomuza columns_ adlı bir liste tanımlıyoruz ve bu listenin içerisine her sütunumuz için almasını istediğimiz başlıklarımızı giriyoruz. columns metodu ile de DataFrameimize bu başlıkları ekliyoruz."
   ]
  },
  {
   "cell_type": "code",
   "execution_count": 14,
   "id": "bba6830e",
   "metadata": {},
   "outputs": [],
   "source": [
    "columns_ = [\"Ad\", \"Soyad\", \"Okul No\", \"Sınav puanı\", \"geçme-kalma durumu\", \"harf notu\"]\n",
    "df.columns = columns_"
   ]
  },
  {
   "cell_type": "code",
   "execution_count": 27,
   "id": "75364461",
   "metadata": {},
   "outputs": [
    {
     "data": {
      "text/plain": [
       "list"
      ]
     },
     "execution_count": 27,
     "metadata": {},
     "output_type": "execute_result"
    }
   ],
   "source": [
    "type(columns_)"
   ]
  },
  {
   "cell_type": "markdown",
   "id": "2c5f5eaf",
   "metadata": {},
   "source": [
    "    12. Artık tablomuz hazır. İstediğimiz kadar girdiyi girdiler fonksiyonu yardımı ile bu tabloya ekleyebiliriz. Şimdi aşağıda bu tabloyu bilgisayarımızda istediğimiz kısma to_excel metodu ile excel dosyası olarak kaydediyoruz. sheet_name bizim excel sayfamızın adını, index=False ise tablomuzun en başında yer alan satır sayılarımızı yok etmekte."
   ]
  },
  {
   "cell_type": "code",
   "execution_count": 15,
   "id": "01288c6d",
   "metadata": {},
   "outputs": [],
   "source": [
    "sinav_notlari= df.to_excel(\"C:/Users/90538/Desktop/sınav_notları.xlsx\", sheet_name=\"Matematik\", index= False)"
   ]
  },
  {
   "cell_type": "markdown",
   "id": "e22439c1",
   "metadata": {},
   "source": [
    " ### KODUN FULL HALİ"
   ]
  },
  {
   "cell_type": "code",
   "execution_count": 23,
   "id": "a3a391d7",
   "metadata": {},
   "outputs": [],
   "source": [
    "import pandas as pd\n",
    "import numpy as np\n",
    "\n",
    "ad_listesi = []\n",
    "soyad_listesi = []\n",
    "okul_no_listesi = []\n",
    "sinav_puani_listesi = []\n",
    "gecme_kalma_durumu = []\n",
    "harf_notu = []\n",
    "\n",
    "\n",
    "def girdiler(ad, soyad, okul_no, sinav_puani):\n",
    "    if sinav_puani >= 60:\n",
    "        gecme_kalma_durumu.append(\"Geçti\")\n",
    "        if (sinav_puani >= 90) & (sinav_puani <= 100):\n",
    "            harf_notu.append(\"AA\")\n",
    "        elif (sinav_puani >= 82) & (sinav_puani <= 89):\n",
    "            harf_notu.append(\"BA\")\n",
    "        elif (sinav_puani >= 73) & (sinav_puani <= 81):\n",
    "            harf_notu.append(\"BB\")\n",
    "        elif (sinav_puani >= 65) & (sinav_puani <= 72):\n",
    "            harf_notu.append(\"CB\")\n",
    "        elif (sinav_puani >= 57) & (sinav_puani <= 64):\n",
    "            harf_notu.append(\"CC\")\n",
    "        elif (sinav_puani >= 48) & (sinav_puani <= 56):\n",
    "            harf_notu.append(\"DC\")\n",
    "        elif (sinav_puani >= 40) & (sinav_puani <= 47):\n",
    "            harf_notu.append(\"DD\")\n",
    "    else:\n",
    "        gecme_kalma_durumu.append(\"Kaldı\")\n",
    "        harf_notu.append(\"FF\")\n",
    "\n",
    "    ad_listesi.append(ad)\n",
    "    soyad_listesi.append(soyad)\n",
    "    okul_no_listesi.append(okul_no)\n",
    "    sinav_puani_listesi.append(sinav_puani)\n",
    "\n",
    "\n",
    "\n",
    "girdiler(\"ayşe\", \"asasd\", 4527, 61)\n",
    "girdiler(\"ali\", \"asasd\", 4527, 40)\n",
    "girdiler(\"yasin\", \"asasd\", 4527, 90)\n",
    "girdiler(\"bahar\", \"adsasd\", 483, 70)\n",
    "################################################################################\n",
    "\n",
    "ad_listesi = pd.Series(ad_listesi)\n",
    "soyad_listesi = pd.Series(soyad_listesi)\n",
    "okul_no_listesi = pd.Series(okul_no_listesi)\n",
    "sinav_puani_listesi = pd.Series(sinav_puani_listesi)\n",
    "gecme_kalma_durumu = pd.Series(gecme_kalma_durumu)\n",
    "harf_notu = pd.Series(harf_notu)\n",
    "################################################################################\n",
    "\n",
    "puan_tablosu = pd.concat([ad_listesi, soyad_listesi, okul_no_listesi, sinav_puani_listesi, gecme_kalma_durumu, harf_notu], axis=1)\n",
    "\n",
    "df = pd.DataFrame(puan_tablosu)\n",
    "################################################################################\n",
    "\n",
    "columns_ = [\"Ad\", \"Soyad\", \"Okul No\", \"Sınav puanı\", \"geçme-kalma durumu\", \"harf notu\"]\n",
    "df.columns = columns_\n",
    "\n",
    "################################################################################\n",
    "df.head()\n",
    "################################################################################\n",
    "\n",
    "sinav_notlari= df.to_excel(\"C:/Users/90538/Desktop/sınav_notları.xlsx\", sheet_name=\"Matematik\", index= False)"
   ]
  },
  {
   "cell_type": "code",
   "execution_count": null,
   "id": "8010be35",
   "metadata": {},
   "outputs": [],
   "source": []
  }
 ],
 "metadata": {
  "kernelspec": {
   "display_name": "Python 3 (ipykernel)",
   "language": "python",
   "name": "python3"
  },
  "language_info": {
   "codemirror_mode": {
    "name": "ipython",
    "version": 3
   },
   "file_extension": ".py",
   "mimetype": "text/x-python",
   "name": "python",
   "nbconvert_exporter": "python",
   "pygments_lexer": "ipython3",
   "version": "3.9.12"
  }
 },
 "nbformat": 4,
 "nbformat_minor": 5
}
